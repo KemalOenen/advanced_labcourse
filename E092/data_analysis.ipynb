{
 "cells": [
  {
   "cell_type": "code",
   "execution_count": 1,
   "metadata": {},
   "outputs": [],
   "source": [
    "import numpy as np\n",
    "import matplotlib.pyplot as plt\n",
    "import pandas as pd\n",
    "from scipy.optimize import root\n",
    "#from scipy.optimize import minimize\n",
    "import uncertainties"
   ]
  },
  {
   "cell_type": "code",
   "execution_count": 2,
   "metadata": {},
   "outputs": [],
   "source": [
    "from scipy.constants import e"
   ]
  },
  {
   "cell_type": "markdown",
   "metadata": {},
   "source": [
    "## Reading, first calculations from data and adding uncertainties"
   ]
  },
  {
   "cell_type": "code",
   "execution_count": 3,
   "metadata": {},
   "outputs": [
    {
     "data": {
      "text/html": [
       "<div>\n",
       "<style scoped>\n",
       "    .dataframe tbody tr th:only-of-type {\n",
       "        vertical-align: middle;\n",
       "    }\n",
       "\n",
       "    .dataframe tbody tr th {\n",
       "        vertical-align: top;\n",
       "    }\n",
       "\n",
       "    .dataframe thead th {\n",
       "        text-align: right;\n",
       "    }\n",
       "</style>\n",
       "<table border=\"1\" class=\"dataframe\">\n",
       "  <thead>\n",
       "    <tr style=\"text-align: right;\">\n",
       "      <th></th>\n",
       "      <th>R_temp1_ohm</th>\n",
       "      <th>1a_mV</th>\n",
       "      <th>1b_mV</th>\n",
       "      <th>2a_mV</th>\n",
       "      <th>2b_mV</th>\n",
       "      <th>R_temp2_ohm</th>\n",
       "      <th>3a_0_mV</th>\n",
       "      <th>3a_B_mV</th>\n",
       "      <th>3b_B_mV</th>\n",
       "      <th>3b_0_mV</th>\n",
       "    </tr>\n",
       "  </thead>\n",
       "  <tbody>\n",
       "    <tr>\n",
       "      <th>0</th>\n",
       "      <td>108.443</td>\n",
       "      <td>25.673</td>\n",
       "      <td>-25.687</td>\n",
       "      <td>11.630</td>\n",
       "      <td>-11.640</td>\n",
       "      <td>108.442</td>\n",
       "      <td>14.0</td>\n",
       "      <td>3.953</td>\n",
       "      <td>-3.972</td>\n",
       "      <td>-14.017</td>\n",
       "    </tr>\n",
       "    <tr>\n",
       "      <th>1</th>\n",
       "      <td>108.442</td>\n",
       "      <td>25.672</td>\n",
       "      <td>-25.688</td>\n",
       "      <td>11.626</td>\n",
       "      <td>-11.637</td>\n",
       "      <td>108.442</td>\n",
       "      <td>14.0</td>\n",
       "      <td>3.955</td>\n",
       "      <td>-3.968</td>\n",
       "      <td>-14.017</td>\n",
       "    </tr>\n",
       "    <tr>\n",
       "      <th>2</th>\n",
       "      <td>108.442</td>\n",
       "      <td>25.672</td>\n",
       "      <td>-25.688</td>\n",
       "      <td>11.626</td>\n",
       "      <td>-11.638</td>\n",
       "      <td>108.442</td>\n",
       "      <td>14.0</td>\n",
       "      <td>3.955</td>\n",
       "      <td>-3.996</td>\n",
       "      <td>-14.017</td>\n",
       "    </tr>\n",
       "    <tr>\n",
       "      <th>3</th>\n",
       "      <td>108.442</td>\n",
       "      <td>25.673</td>\n",
       "      <td>-25.688</td>\n",
       "      <td>11.627</td>\n",
       "      <td>-11.638</td>\n",
       "      <td>108.442</td>\n",
       "      <td>14.0</td>\n",
       "      <td>3.954</td>\n",
       "      <td>-3.970</td>\n",
       "      <td>-14.016</td>\n",
       "    </tr>\n",
       "    <tr>\n",
       "      <th>4</th>\n",
       "      <td>108.442</td>\n",
       "      <td>25.673</td>\n",
       "      <td>-25.687</td>\n",
       "      <td>11.627</td>\n",
       "      <td>-11.638</td>\n",
       "      <td>108.442</td>\n",
       "      <td>14.0</td>\n",
       "      <td>3.954</td>\n",
       "      <td>-3.969</td>\n",
       "      <td>-14.017</td>\n",
       "    </tr>\n",
       "  </tbody>\n",
       "</table>\n",
       "</div>"
      ],
      "text/plain": [
       "   R_temp1_ohm   1a_mV   1b_mV   2a_mV   2b_mV  R_temp2_ohm  3a_0_mV  3a_B_mV  \\\n",
       "0      108.443  25.673 -25.687  11.630 -11.640      108.442     14.0    3.953   \n",
       "1      108.442  25.672 -25.688  11.626 -11.637      108.442     14.0    3.955   \n",
       "2      108.442  25.672 -25.688  11.626 -11.638      108.442     14.0    3.955   \n",
       "3      108.442  25.673 -25.688  11.627 -11.638      108.442     14.0    3.954   \n",
       "4      108.442  25.673 -25.687  11.627 -11.638      108.442     14.0    3.954   \n",
       "\n",
       "   3b_B_mV  3b_0_mV  \n",
       "0   -3.972  -14.017  \n",
       "1   -3.968  -14.017  \n",
       "2   -3.996  -14.017  \n",
       "3   -3.970  -14.016  \n",
       "4   -3.969  -14.017  "
      ]
     },
     "execution_count": 3,
     "metadata": {},
     "output_type": "execute_result"
    }
   ],
   "source": [
    "#einlesen\n",
    "df=pd.read_csv(\"data_e092.csv\")\n",
    "df.head()"
   ]
  },
  {
   "cell_type": "code",
   "execution_count": 4,
   "metadata": {},
   "outputs": [],
   "source": [
    "#transdencent function for rho\n",
    "def transcendent_function(f, x):\n",
    "    return np.cosh(np.log(2)/f * (x-1)/(x+1)) - 0.5*np.exp(np.log(2)/f)"
   ]
  },
  {
   "cell_type": "code",
   "execution_count": 5,
   "metadata": {},
   "outputs": [],
   "source": [
    "# remove the bad values, i.e. in german: \"Ausreißer\"\n",
    "df = df.drop([66-15,66-16,66-17,66-18, 66-22, 66-25])"
   ]
  },
  {
   "cell_type": "code",
   "execution_count": 6,
   "metadata": {},
   "outputs": [],
   "source": [
    "df = df.reset_index()"
   ]
  },
  {
   "cell_type": "code",
   "execution_count": 7,
   "metadata": {},
   "outputs": [],
   "source": [
    "#temperature with uncertainty\n",
    "def get_temp_uncert(T):\n",
    "    new_T=[]\n",
    "    for t in range(len(T)):\n",
    "        if T[t]>70:\n",
    "            new_T.append(uncertainties.ufloat(T[t], abs(T[t])*0.002))\n",
    "        else:\n",
    "            new_T.append(uncertainties.ufloat(T[t], abs(T[t])*0.01))\n",
    "    return np.array(new_T)\n",
    "#define thickness\n",
    "d = uncertainties.ufloat(500e-6, 1e-6)\n",
    "#temperature conversion in K\n",
    "T_1 = 509/8 - 89/2/df[\"R_temp1_ohm\"] + 43/30*np.sqrt(df[\"R_temp1_ohm\"]) + 161/113*df[\"R_temp1_ohm\"]**1.1\n",
    "T_2 = 509/8 - 89/2/df[\"R_temp2_ohm\"] + 43/30*np.sqrt(df[\"R_temp2_ohm\"]) + 161/113*df[\"R_temp2_ohm\"]**1.1\n",
    "#adding uncertainties to temperature\n",
    "T_1=get_temp_uncert(T_1)\n",
    "T_2=get_temp_uncert(T_2)"
   ]
  },
  {
   "cell_type": "code",
   "execution_count": 9,
   "metadata": {},
   "outputs": [],
   "source": [
    "#define the voltages and add uncertainty of 0.5\n",
    "#TODO: get_uncertainty_function\n",
    "\n",
    "\n",
    "def get_uncertainty_function(array):\n",
    "    new_array=[]\n",
    "    for i in range(len(array)):\n",
    "        new_array.append(uncertainties.ufloat(array[i], 0.05)) #adding uncertainty of 0.05mV\n",
    "    return np.array(new_array)\n",
    "\n",
    "U_1a = get_uncertainty_function(df[\"1a_mV\"])\n",
    "U_1b = get_uncertainty_function(df[\"1b_mV\"])\n",
    "U_2a = get_uncertainty_function(df[\"2a_mV\"])\n",
    "U_2b = get_uncertainty_function(df[\"2b_mV\"])\n",
    "U_3a_0 = get_uncertainty_function(df[\"3a_0_mV\"])\n",
    "U_3b_0 = get_uncertainty_function(df[\"3b_0_mV\"])\n",
    "U_3a_B = get_uncertainty_function(df[\"3a_B_mV\"])\n",
    "U_3b_B = get_uncertainty_function(df[\"3b_B_mV\"])"
   ]
  },
  {
   "cell_type": "code",
   "execution_count": 10,
   "metadata": {},
   "outputs": [],
   "source": [
    "#compute the resistance\n",
    "rho1=[]\n",
    "for i in range(len(df[\"R_temp1_ohm\"])):\n",
    "    #Current of 500uA = 0.5mA\n",
    "    R_abcd = (abs(df[\"1a_mV\"][i]/0.5) + abs(df[\"1b_mV\"][i]/(-0.5)))/2 #both current directions\n",
    "    R_bcda = (abs(df[\"2a_mV\"][i]/0.5) + abs(df[\"2b_mV\"][i]/(-0.5)))/2 #both current directions\n",
    "    x=R_abcd/R_bcda \n",
    "    f = root(transcendent_function, 0.5, args=(x, )).x[0] #finding solution for the transcendent equation\n",
    "\n",
    "    rho1.append(np.pi * d / np.log(2) *0.5*(R_abcd+R_bcda)*f) #calculating rho in SI units\n",
    "    rho = np.array(rho1)"
   ]
  },
  {
   "cell_type": "code",
   "execution_count": 11,
   "metadata": {},
   "outputs": [],
   "source": [
    "#calculating Hall's coefficient\n",
    "#here discuss if we need negative sing because of the currrent direction\n",
    "R_acbd_a = df[\"3a_B_mV\"]/0.5\n",
    "R_acbd_b = df[\"3b_B_mV\"]/(-0.5)\n",
    "R_H_1 = d/0.2525 * (R_acbd_a - df[\"3a_0_mV\"]/0.5)\n",
    "R_H_2 = d/0.2525 * (R_acbd_b - df[\"3b_0_mV\"]/(-0.5))\n",
    "R_H = (R_H_1+R_H_2)/2"
   ]
  },
  {
   "cell_type": "code",
   "execution_count": 12,
   "metadata": {},
   "outputs": [
    {
     "data": {
      "text/plain": [
       "<matplotlib.collections.PathCollection at 0x19b372c0610>"
      ]
     },
     "execution_count": 12,
     "metadata": {},
     "output_type": "execute_result"
    },
    {
     "data": {
      "image/png": "[encoded data removed]",
      "text/plain": [
       "<Figure size 640x480 with 1 Axes>"
      ]
     },
     "metadata": {},
     "output_type": "display_data"
    }
   ],
   "source": [
    "plt.scatter(np.array([T_2[i].n for i in range(len(T_2))]), np.array([R_H[i].n for i in range(len(R_H))]))"
   ]
  },
  {
   "cell_type": "markdown",
   "metadata": {},
   "source": [
    "## Room temperature"
   ]
  },
  {
   "cell_type": "code",
   "execution_count": 13,
   "metadata": {},
   "outputs": [
    {
     "data": {
      "text/html": [
       "<div>\n",
       "<style scoped>\n",
       "    .dataframe tbody tr th:only-of-type {\n",
       "        vertical-align: middle;\n",
       "    }\n",
       "\n",
       "    .dataframe tbody tr th {\n",
       "        vertical-align: top;\n",
       "    }\n",
       "\n",
       "    .dataframe thead th {\n",
       "        text-align: right;\n",
       "    }\n",
       "</style>\n",
       "<table border=\"1\" class=\"dataframe\">\n",
       "  <thead>\n",
       "    <tr style=\"text-align: right;\">\n",
       "      <th></th>\n",
       "      <th>index</th>\n",
       "      <th>R_temp1_ohm</th>\n",
       "      <th>1a_mV</th>\n",
       "      <th>1b_mV</th>\n",
       "      <th>2a_mV</th>\n",
       "      <th>2b_mV</th>\n",
       "      <th>R_temp2_ohm</th>\n",
       "      <th>3a_0_mV</th>\n",
       "      <th>3a_B_mV</th>\n",
       "      <th>3b_B_mV</th>\n",
       "      <th>3b_0_mV</th>\n",
       "    </tr>\n",
       "  </thead>\n",
       "  <tbody>\n",
       "    <tr>\n",
       "      <th>0</th>\n",
       "      <td>0</td>\n",
       "      <td>108.443</td>\n",
       "      <td>25.673</td>\n",
       "      <td>-25.687</td>\n",
       "      <td>11.630</td>\n",
       "      <td>-11.640</td>\n",
       "      <td>108.442</td>\n",
       "      <td>14.0</td>\n",
       "      <td>3.953</td>\n",
       "      <td>-3.972</td>\n",
       "      <td>-14.017</td>\n",
       "    </tr>\n",
       "    <tr>\n",
       "      <th>1</th>\n",
       "      <td>1</td>\n",
       "      <td>108.442</td>\n",
       "      <td>25.672</td>\n",
       "      <td>-25.688</td>\n",
       "      <td>11.626</td>\n",
       "      <td>-11.637</td>\n",
       "      <td>108.442</td>\n",
       "      <td>14.0</td>\n",
       "      <td>3.955</td>\n",
       "      <td>-3.968</td>\n",
       "      <td>-14.017</td>\n",
       "    </tr>\n",
       "    <tr>\n",
       "      <th>2</th>\n",
       "      <td>2</td>\n",
       "      <td>108.442</td>\n",
       "      <td>25.672</td>\n",
       "      <td>-25.688</td>\n",
       "      <td>11.626</td>\n",
       "      <td>-11.638</td>\n",
       "      <td>108.442</td>\n",
       "      <td>14.0</td>\n",
       "      <td>3.955</td>\n",
       "      <td>-3.996</td>\n",
       "      <td>-14.017</td>\n",
       "    </tr>\n",
       "    <tr>\n",
       "      <th>3</th>\n",
       "      <td>3</td>\n",
       "      <td>108.442</td>\n",
       "      <td>25.673</td>\n",
       "      <td>-25.688</td>\n",
       "      <td>11.627</td>\n",
       "      <td>-11.638</td>\n",
       "      <td>108.442</td>\n",
       "      <td>14.0</td>\n",
       "      <td>3.954</td>\n",
       "      <td>-3.970</td>\n",
       "      <td>-14.016</td>\n",
       "    </tr>\n",
       "    <tr>\n",
       "      <th>4</th>\n",
       "      <td>4</td>\n",
       "      <td>108.442</td>\n",
       "      <td>25.673</td>\n",
       "      <td>-25.687</td>\n",
       "      <td>11.627</td>\n",
       "      <td>-11.638</td>\n",
       "      <td>108.442</td>\n",
       "      <td>14.0</td>\n",
       "      <td>3.954</td>\n",
       "      <td>-3.969</td>\n",
       "      <td>-14.017</td>\n",
       "    </tr>\n",
       "  </tbody>\n",
       "</table>\n",
       "</div>"
      ],
      "text/plain": [
       "   index  R_temp1_ohm   1a_mV   1b_mV   2a_mV   2b_mV  R_temp2_ohm  3a_0_mV  \\\n",
       "0      0      108.443  25.673 -25.687  11.630 -11.640      108.442     14.0   \n",
       "1      1      108.442  25.672 -25.688  11.626 -11.637      108.442     14.0   \n",
       "2      2      108.442  25.672 -25.688  11.626 -11.638      108.442     14.0   \n",
       "3      3      108.442  25.673 -25.688  11.627 -11.638      108.442     14.0   \n",
       "4      4      108.442  25.673 -25.687  11.627 -11.638      108.442     14.0   \n",
       "\n",
       "   3a_B_mV  3b_B_mV  3b_0_mV  \n",
       "0    3.953   -3.972  -14.017  \n",
       "1    3.955   -3.968  -14.017  \n",
       "2    3.955   -3.996  -14.017  \n",
       "3    3.954   -3.970  -14.016  \n",
       "4    3.954   -3.969  -14.017  "
      ]
     },
     "execution_count": 13,
     "metadata": {},
     "output_type": "execute_result"
    }
   ],
   "source": [
    "df_RT = df[0:5]\n",
    "df_RT"
   ]
  },
  {
   "cell_type": "code",
   "execution_count": 14,
   "metadata": {},
   "outputs": [],
   "source": [
    "Temp1_RT = T_1[0:5]\n",
    "Temp2_RT = T_2[0:5]\n",
    "R_H_RT = R_H[0:5]\n",
    "rho_RT=rho[0:5]"
   ]
  },
  {
   "cell_type": "code",
   "execution_count": 15,
   "metadata": {},
   "outputs": [],
   "source": [
    "n_RT = 1/(R_H_RT*(-e))\n",
    "mu_RT = -R_H_RT/rho_RT"
   ]
  },
  {
   "cell_type": "code",
   "execution_count": 16,
   "metadata": {},
   "outputs": [
    {
     "data": {
      "text/plain": [
       "0    (1.5688+/-0.0031)e+20\n",
       "1    (1.5686+/-0.0031)e+20\n",
       "2    (1.5708+/-0.0031)e+20\n",
       "3    (1.5688+/-0.0031)e+20\n",
       "4    (1.5686+/-0.0031)e+20\n",
       "dtype: object"
      ]
     },
     "execution_count": 16,
     "metadata": {},
     "output_type": "execute_result"
    }
   ],
   "source": [
    "n_RT"
   ]
  },
  {
   "cell_type": "code",
   "execution_count": 17,
   "metadata": {},
   "outputs": [
    {
     "data": {
      "text/plain": [
       "0    0.49583295193447790572+/-0.00000000000000000006\n",
       "1    0.49594793169817941170+/-0.00000000000000000006\n",
       "2    0.49524748940826884835+/-0.00000000000000000011\n",
       "3    0.49587441024423734026+/-0.00000000000000000011\n",
       "4    0.49592917956528881351+/-0.00000000000000000023\n",
       "dtype: object"
      ]
     },
     "execution_count": 17,
     "metadata": {},
     "output_type": "execute_result"
    }
   ],
   "source": [
    "mu_RT"
   ]
  },
  {
   "cell_type": "markdown",
   "metadata": {},
   "source": [
    "## Temperature row"
   ]
  },
  {
   "cell_type": "code",
   "execution_count": null,
   "metadata": {},
   "outputs": [],
   "source": []
  }
 ],
 "metadata": {
  "kernelspec": {
   "display_name": "Python 3 (ipykernel)",
   "language": "python",
   "name": "python3"
  },
  "language_info": {
   "codemirror_mode": {
    "name": "ipython",
    "version": 3
   },
   "file_extension": ".py",
   "mimetype": "text/x-python",
   "name": "python",
   "nbconvert_exporter": "python",
   "pygments_lexer": "ipython3",
   "version": "3.11.4"
  }
 },
 "nbformat": 4,
 "nbformat_minor": 4
}
