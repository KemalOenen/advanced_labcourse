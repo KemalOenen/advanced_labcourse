{
 "cells": [
  {
   "cell_type": "code",
   "execution_count": 6,
   "metadata": {},
   "outputs": [],
   "source": [
    "import numpy as np\n",
    "import matplotlib.pyplot as plt\n",
    "import pandas as pd\n",
    "from scipy.optimize import root\n",
    "from scipy.optimize import minimize\n",
    "import uncertainties"
   ]
  },
  {
   "cell_type": "code",
   "execution_count": 32,
   "metadata": {},
   "outputs": [
    {
     "name": "stdout",
     "output_type": "stream",
     "text": [
      "    R_temp1_ohm   1a_mV   1b_mV   2a_mV   2b_mV  R_temp2_ohm  3a_0_mV  \\\n",
      "0       108.443  25.673 -25.687  11.630 -11.640      108.442   14.000   \n",
      "1       108.442  25.672 -25.688  11.626 -11.637      108.442   14.000   \n",
      "2       108.442  25.672 -25.688  11.626 -11.638      108.442   14.000   \n",
      "3       108.442  25.673 -25.688  11.627 -11.638      108.442   14.000   \n",
      "4       108.442  25.673 -25.687  11.627 -11.638      108.442   14.000   \n",
      "..          ...     ...     ...     ...     ...          ...      ...   \n",
      "61        7.433  22.177 -22.361  10.438 -10.128        6.808   12.630   \n",
      "62        5.249  26.804 -26.991  12.664 -12.772        4.782   15.551   \n",
      "63        3.545  32.099 -33.514  15.754 -15.912        3.201   19.134   \n",
      "64        2.478  40.416 -40.524  18.789 -18.852        2.404   22.389   \n",
      "65        1.850  50.697 -61.891  29.139 -29.429        1.330   36.089   \n",
      "\n",
      "    3a_B_mV  3b_B_mV  3b_0_mV  \n",
      "0     3.953   -3.972  -14.017  \n",
      "1     3.955   -3.968  -14.017  \n",
      "2     3.955   -3.996  -14.017  \n",
      "3     3.954   -3.970  -14.016  \n",
      "4     3.954   -3.969  -14.017  \n",
      "..      ...      ...      ...  \n",
      "61   -3.342    3.287  -13.154  \n",
      "62   -0.869    0.729  -16.434  \n",
      "63    2.281   -2.478  -20.144  \n",
      "64    5.241   -5.235  -22.801  \n",
      "65   19.781  -19.965  -36.812  \n",
      "\n",
      "[66 rows x 10 columns]\n"
     ]
    }
   ],
   "source": [
    "#determining the resistivity\n",
    "def transcendent_function(f, x):\n",
    "    return np.cosh(np.log(2)/f * (x-1)/(x+1)) - 0.5*np.exp(np.log(2)/f)\n",
    "\n",
    "df=pd.read_csv(\"data_e092.csv\")\n",
    "print(df)\n",
    "\n",
    "d = uncertainties.ufloat(500e-6, 1e-6)\n",
    "rho = np.zeros(len(df[\"R_temp1_ohm\"]))\n",
    "\n",
    "for i in range(len(df[\"R_temp1_ohm\"])):\n",
    "    #calculating resistance\n",
    "    R_abcd = (abs(df[\"1a_mV\"][i]/0.5) + abs(df[\"1b_mV\"][i]/(-0.5)))/2 #both current directions\n",
    "    R_bcda = (abs(df[\"2a_mV\"][i]/0.5) + abs(df[\"2b_mV\"][i]/(-0.5)))/2 #both current directions\n",
    "    x=R_abcd/R_bcda \n",
    "    f = root(transcendent_function, 0.5, args=(x, )).x[0] #finding solution for the transcendent equation\n",
    "\n",
    "    rho[i] = np.pi * d.n / np.log(2) *0.5*(R_abcd+R_bcda)*f #calculating rho in SI units"
   ]
  },
  {
   "cell_type": "code",
   "execution_count": 33,
   "metadata": {},
   "outputs": [
    {
     "name": "stdout",
     "output_type": "stream",
     "text": [
      "[ 80241.01354829  80230.39610964  80231.912963    80234.30488027\n",
      "  80233.42979088  79243.1233972  546747.62804851  76494.22280314\n",
      "  75143.85146383  73780.04729588  72446.18028371  71169.24016722\n",
      "  69791.02152553  68452.00162102  67170.97614269  65795.44853227\n",
      "  64463.57407992  63138.01611254  61871.80522211  59102.97278233\n",
      "  59379.69441563  58109.49440759  58141.03615482  55716.6551518\n",
      "  54336.34223441  53326.9146028   51914.04772586  50806.44800009\n",
      "  49722.83739506  48868.14221404  48241.80397751  47574.27006138\n",
      "  46877.33623577  46177.67473129  45525.88121206  44971.0125345\n",
      "  44377.47549483  43872.23438726  43270.80839756  42717.91962611\n",
      "  42171.33844041  41709.56905866  41294.38456087  40901.70041865\n",
      "  40522.32741122  40149.10559606  39878.26553397  39681.79391292\n",
      "  39448.95903536  39632.39307907  39255.76517033  30442.70194947\n",
      "  21229.38222274  42039.10637366  43367.62091066  45352.90517156\n",
      "  46878.84618248  49002.38842069  60578.62518922  57508.04364618\n",
      "  62534.40527815  70167.44239144  85643.71937275 105412.39480402\n",
      " 127916.77778894 187052.09620154]\n"
     ]
    }
   ],
   "source": [
    "print(rho*1e6) #for unit of /ohm /mm^2 per /m^2"
   ]
  },
  {
   "cell_type": "code",
   "execution_count": null,
   "metadata": {},
   "outputs": [],
   "source": []
  }
 ],
 "metadata": {
  "kernelspec": {
   "display_name": "Python 3",
   "language": "python",
   "name": "python3"
  },
  "language_info": {
   "codemirror_mode": {
    "name": "ipython",
    "version": 3
   },
   "file_extension": ".py",
   "mimetype": "text/x-python",
   "name": "python",
   "nbconvert_exporter": "python",
   "pygments_lexer": "ipython3",
   "version": "3.11.4"
  }
 },
 "nbformat": 4,
 "nbformat_minor": 2
}
