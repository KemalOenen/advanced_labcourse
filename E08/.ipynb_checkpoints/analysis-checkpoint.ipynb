{
 "cells": [
  {
   "cell_type": "code",
   "execution_count": 1,
   "id": "bafc506c-a846-4204-9298-d0984e12b5af",
   "metadata": {},
   "outputs": [],
   "source": [
    "import numpy as np\n",
    "import pandas as pd\n",
    "import matplotlib.pyplot as plt\n",
    "import seaborn as sns\n",
    "from uncertainties import ufloat\n",
    "from uncertainties.umath import atan2"
   ]
  },
  {
   "cell_type": "code",
   "execution_count": 11,
   "id": "fa3891e0-a151-43a0-84ee-180c46ef635a",
   "metadata": {},
   "outputs": [],
   "source": [
    "from scipy.optimize import curve_fit"
   ]
  },
  {
   "cell_type": "markdown",
   "id": "8b96f0d9-36bd-477d-9806-59ad178c70f6",
   "metadata": {},
   "source": [
    "# during raw measurements"
   ]
  },
  {
   "cell_type": "markdown",
   "id": "25878ba0-f02c-48b7-9fc3-a92209fb0a84",
   "metadata": {},
   "source": [
    "### 3.1"
   ]
  },
  {
   "cell_type": "code",
   "execution_count": 2,
   "id": "0c4a7fa7-a824-4707-b198-add84a143956",
   "metadata": {},
   "outputs": [
    {
     "name": "stdout",
     "output_type": "stream",
     "text": [
      "291.78519571903206 412.1259826540001 583.1582654554102\n"
     ]
    }
   ],
   "source": [
    "# get the RF gen. input voltages\n",
    "def get_V_in(Vout, gain):\n",
    "    f = gain/20\n",
    "    denom = 10**f\n",
    "    return Vout/denom\n",
    "# get in mVpp\n",
    "# 33.78 for 24V\n",
    "Vin_500mW = get_V_in(14.16*10**3, 33.72) #gain is by 23V and 98.80 (AOM central freq: 80 MHz)\n",
    "Vin_1000mW = get_V_in(20*10**3, 33.72)\n",
    "Vin_2000mW = get_V_in(28.3*10**3, 33.72)\n",
    "print(Vin_500mW, Vin_1000mW, Vin_2000mW)"
   ]
  },
  {
   "cell_type": "code",
   "execution_count": 3,
   "id": "10378c29-bb8a-467f-a38f-8848202d5b84",
   "metadata": {},
   "outputs": [
    {
     "data": {
      "text/plain": [
       "6.16165990016459+/-0.8809497076100029"
      ]
     },
     "execution_count": 3,
     "metadata": {},
     "output_type": "execute_result"
    }
   ],
   "source": [
    "# 3.1 bragg angle\n",
    "AOM_mes_dist = ufloat(9.5, 0.2) + ufloat(15.0, 0.2)  + ufloat(32.3, 0.2) # in cm\n",
    "order_dist = ufloat(0.7,0.1) # in cm\n",
    "theta = atan2(order_dist,AOM_mes_dist)\n",
    "bragg = theta/2\n",
    "bragg * 1000 #in mrad"
   ]
  },
  {
   "cell_type": "markdown",
   "id": "ea1fb4e0-2177-4c16-9017-27363d4a37f8",
   "metadata": {},
   "source": [
    "### 3.2"
   ]
  },
  {
   "cell_type": "code",
   "execution_count": 4,
   "id": "2c6b1c60-fa55-41c7-980b-7d5e833b0909",
   "metadata": {},
   "outputs": [
    {
     "data": {
      "text/plain": [
       "0.05088495575221241+/-0.0015251128970142295"
      ]
     },
     "execution_count": 4,
     "metadata": {},
     "output_type": "execute_result"
    }
   ],
   "source": [
    "# 3.2\n",
    "# without RF power\n",
    "IL = 1 - (ufloat(0.858, 0.001)/ufloat(0.904, 0.001))\n",
    "IL"
   ]
  },
  {
   "cell_type": "markdown",
   "id": "02179688-194f-4075-b885-87f0fa4f3c5f",
   "metadata": {},
   "source": [
    "raw_data_3_2 = np.array([[get_V_in(28.3*10**3, 33.72), ufloat(0.728,0.001) - power_noise, ufloat(59.6e-3,0.2e-3) - power_noise],\n",
    "                         [get_V_in(25.2*10**3, 33.72), ufloat(0.769,0.001) - power_noise, ufloat(20.4e-3,0.2e-3) - power_noise],\n",
    "                         [get_V_in(22.4*10**3, 33.72), ufloat(0.775,0.001) - power_noise, ufloat(26.3e-3,0.2e-3) - power_noise],\n",
    "                         [get_V_in(20*10**3, 33.72), ufloat(0.746,0.001) - power_noise, ufloat(64.7e-3,0.2e-3)- power_noise], \n",
    "                         [get_V_in(17.83*10**3, 33.72), ufloat(0.691,0.001) - power_noise, ufloat(126.0e-3,0.2e-3) - power_noise],\n",
    "                         [get_V_in(15.89*10**3, 33.72), ufloat(0.621,0.001) - power_noise, ufloat(0.202,0.001) - power_noise],\n",
    "                         [get_V_in(14.16*10**3, 33.72), ufloat(0.546,0.001) - power_noise, ufloat(0.282,0.001) - power_noise],\n",
    "                         [get_V_in(12.62*10**3, 33.72), ufloat(0.469,0.001) - power_noise, ufloat(0.361,0.001) - power_noise],\n",
    "                         [get_V_in(11.25*10**3, 33.72), ufloat(0.399,0.001) - power_noise, ufloat(0.437,0.001) - power_noise],\n",
    "                         [get_V_in(10.02*10**3, 33.72), ufloat(0.331,0.001) - power_noise, ufloat(0.504,0.001) - power_noise],\n",
    "                         [get_V_in(8.93*10**3, 33.72), ufloat(0.274,0.001) - power_noise, ufloat(0.561,0.001) - power_noise],\n",
    "                         [get_V_in(7.96*10**3, 33.72), ufloat(0.225,0.001) - power_noise, ufloat(0.611,0.001) - power_noise],\n",
    "                         [get_V_in(7.10*10**3, 33.72), ufloat(0.183,0.001) - power_noise, ufloat(0.650,0.001) - power_noise],\n",
    "                        [get_V_in(6.32*10**3, 33.72), ufloat(0.148,0.001) - power_noise, ufloat(0.686,0.001) - power_noise]])"
   ]
  },
  {
   "cell_type": "code",
   "execution_count": 5,
   "id": "6b247d89-4c37-429a-bad7-8d98ac44a8c1",
   "metadata": {},
   "outputs": [
    {
     "data": {
      "text/html": [
       "<div>\n",
       "<style scoped>\n",
       "    .dataframe tbody tr th:only-of-type {\n",
       "        vertical-align: middle;\n",
       "    }\n",
       "\n",
       "    .dataframe tbody tr th {\n",
       "        vertical-align: top;\n",
       "    }\n",
       "\n",
       "    .dataframe thead th {\n",
       "        text-align: right;\n",
       "    }\n",
       "</style>\n",
       "<table border=\"1\" class=\"dataframe\">\n",
       "  <thead>\n",
       "    <tr style=\"text-align: right;\">\n",
       "      <th></th>\n",
       "      <th>RF_power/Watt</th>\n",
       "      <th>power_1st/mW</th>\n",
       "      <th>power_0th/mW</th>\n",
       "    </tr>\n",
       "  </thead>\n",
       "  <tbody>\n",
       "    <tr>\n",
       "      <th>0</th>\n",
       "      <td>2.0</td>\n",
       "      <td>0.7273+/-0.0010</td>\n",
       "      <td>0.05895+/-0.00021</td>\n",
       "    </tr>\n",
       "    <tr>\n",
       "      <th>1</th>\n",
       "      <td>1.58</td>\n",
       "      <td>0.7683+/-0.0010</td>\n",
       "      <td>0.01975+/-0.00021</td>\n",
       "    </tr>\n",
       "    <tr>\n",
       "      <th>2</th>\n",
       "      <td>1.26</td>\n",
       "      <td>0.7743+/-0.0010</td>\n",
       "      <td>0.02565+/-0.00021</td>\n",
       "    </tr>\n",
       "    <tr>\n",
       "      <th>3</th>\n",
       "      <td>1.0</td>\n",
       "      <td>0.7453+/-0.0010</td>\n",
       "      <td>0.06405+/-0.00021</td>\n",
       "    </tr>\n",
       "    <tr>\n",
       "      <th>4</th>\n",
       "      <td>0.794</td>\n",
       "      <td>0.6903+/-0.0010</td>\n",
       "      <td>0.12535+/-0.00021</td>\n",
       "    </tr>\n",
       "    <tr>\n",
       "      <th>5</th>\n",
       "      <td>0.631</td>\n",
       "      <td>0.6203+/-0.0010</td>\n",
       "      <td>0.2014+/-0.0010</td>\n",
       "    </tr>\n",
       "    <tr>\n",
       "      <th>6</th>\n",
       "      <td>0.501</td>\n",
       "      <td>0.5454+/-0.0010</td>\n",
       "      <td>0.2813+/-0.0010</td>\n",
       "    </tr>\n",
       "    <tr>\n",
       "      <th>7</th>\n",
       "      <td>0.398</td>\n",
       "      <td>0.4683+/-0.0010</td>\n",
       "      <td>0.3604+/-0.0010</td>\n",
       "    </tr>\n",
       "    <tr>\n",
       "      <th>8</th>\n",
       "      <td>0.316</td>\n",
       "      <td>0.3984+/-0.0010</td>\n",
       "      <td>0.4364+/-0.0010</td>\n",
       "    </tr>\n",
       "    <tr>\n",
       "      <th>9</th>\n",
       "      <td>0.25</td>\n",
       "      <td>0.3304+/-0.0010</td>\n",
       "      <td>0.5033+/-0.0010</td>\n",
       "    </tr>\n",
       "    <tr>\n",
       "      <th>10</th>\n",
       "      <td>0.2</td>\n",
       "      <td>0.2734+/-0.0010</td>\n",
       "      <td>0.5604+/-0.0010</td>\n",
       "    </tr>\n",
       "    <tr>\n",
       "      <th>11</th>\n",
       "      <td>0.158</td>\n",
       "      <td>0.2243+/-0.0010</td>\n",
       "      <td>0.6103+/-0.0010</td>\n",
       "    </tr>\n",
       "    <tr>\n",
       "      <th>12</th>\n",
       "      <td>0.126</td>\n",
       "      <td>0.1823+/-0.0010</td>\n",
       "      <td>0.6493+/-0.0010</td>\n",
       "    </tr>\n",
       "    <tr>\n",
       "      <th>13</th>\n",
       "      <td>0.1</td>\n",
       "      <td>0.1473+/-0.0010</td>\n",
       "      <td>0.6854+/-0.0010</td>\n",
       "    </tr>\n",
       "  </tbody>\n",
       "</table>\n",
       "</div>"
      ],
      "text/plain": [
       "   RF_power/Watt     power_1st/mW       power_0th/mW\n",
       "0            2.0  0.7273+/-0.0010  0.05895+/-0.00021\n",
       "1           1.58  0.7683+/-0.0010  0.01975+/-0.00021\n",
       "2           1.26  0.7743+/-0.0010  0.02565+/-0.00021\n",
       "3            1.0  0.7453+/-0.0010  0.06405+/-0.00021\n",
       "4          0.794  0.6903+/-0.0010  0.12535+/-0.00021\n",
       "5          0.631  0.6203+/-0.0010    0.2014+/-0.0010\n",
       "6          0.501  0.5454+/-0.0010    0.2813+/-0.0010\n",
       "7          0.398  0.4683+/-0.0010    0.3604+/-0.0010\n",
       "8          0.316  0.3984+/-0.0010    0.4364+/-0.0010\n",
       "9           0.25  0.3304+/-0.0010    0.5033+/-0.0010\n",
       "10           0.2  0.2734+/-0.0010    0.5604+/-0.0010\n",
       "11         0.158  0.2243+/-0.0010    0.6103+/-0.0010\n",
       "12         0.126  0.1823+/-0.0010    0.6493+/-0.0010\n",
       "13           0.1  0.1473+/-0.0010    0.6854+/-0.0010"
      ]
     },
     "execution_count": 5,
     "metadata": {},
     "output_type": "execute_result"
    }
   ],
   "source": [
    "#3.2\n",
    "# with RF power change and record the power\n",
    "power_noise = ufloat(0.65e-3,0.05e-3)\n",
    "RF_power_watt = np.array([2.00, 1.58, 1.26, 1.00, 0.794, 0.631, 0.501, 0.398, 0.316, 0.250, 0.200, 0.158, 0.126,0.100])\n",
    "raw_data_3_2 = np.array([[RF_power_watt[0], ufloat(0.728,0.001) - power_noise, ufloat(59.6e-3,0.2e-3) - power_noise],\n",
    "                         [RF_power_watt[1], ufloat(0.769,0.001) - power_noise, ufloat(20.4e-3,0.2e-3) - power_noise],\n",
    "                         [RF_power_watt[2], ufloat(0.775,0.001) - power_noise, ufloat(26.3e-3,0.2e-3) - power_noise],\n",
    "                         [RF_power_watt[3], ufloat(0.746,0.001) - power_noise, ufloat(64.7e-3,0.2e-3)- power_noise], \n",
    "                         [RF_power_watt[4], ufloat(0.691,0.001) - power_noise, ufloat(126.0e-3,0.2e-3) - power_noise],\n",
    "                         [RF_power_watt[5], ufloat(0.621,0.001) - power_noise, ufloat(0.202,0.001) - power_noise],\n",
    "                         [RF_power_watt[6], ufloat(0.546,0.001) - power_noise, ufloat(0.282,0.001) - power_noise],\n",
    "                         [RF_power_watt[7], ufloat(0.469,0.001) - power_noise, ufloat(0.361,0.001) - power_noise],\n",
    "                         [RF_power_watt[8], ufloat(0.399,0.001) - power_noise, ufloat(0.437,0.001) - power_noise],\n",
    "                         [RF_power_watt[9], ufloat(0.331,0.001) - power_noise, ufloat(0.504,0.001) - power_noise],\n",
    "                         [RF_power_watt[10], ufloat(0.274,0.001) - power_noise, ufloat(0.561,0.001) - power_noise],\n",
    "                         [RF_power_watt[11], ufloat(0.225,0.001) - power_noise, ufloat(0.611,0.001) - power_noise],\n",
    "                         [RF_power_watt[12], ufloat(0.183,0.001) - power_noise, ufloat(0.650,0.001) - power_noise],\n",
    "                         [RF_power_watt[13], ufloat(0.148,0.001) - power_noise, ufloat(0.686,0.001) - power_noise]])\n",
    "#[get_V_in(0*10**3, 33.72), ufloat(0,0), ufloat(0.820,0.001) - power_noise]]\n",
    "data_3_2 = pd.DataFrame(raw_data_3_2, columns=[\"RF_power/Watt\", \"power_1st/mW\", \"power_0th/mW\"])\n",
    "data_3_2"
   ]
  },
  {
   "cell_type": "code",
   "execution_count": 7,
   "id": "012c284e-a67b-4590-bb98-e679987cb083",
   "metadata": {},
   "outputs": [
    {
     "data": {
      "image/png": "[encoded data removed]",
      "text/plain": [
       "<Figure size 640x480 with 1 Axes>"
      ]
     },
     "metadata": {},
     "output_type": "display_data"
    }
   ],
   "source": [
    "#plt.style.use('seaborn-v0_8-paper')\n",
    "#sns.set_theme(style=\"whitegrid\")\n",
    "#plt.figure(figsize=(8,4))\n",
    "plt.errorbar(np.array([data_3_2[\"RF_power/Watt\"][i] for i in range(len(data_3_2[\"RF_power/Watt\"]))]), \n",
    "        np.array([data_3_2[\"power_1st/mW\"][i].n for i in range(len(data_3_2[\"power_1st/mW\"]))]),\n",
    "            yerr=np.array([data_3_2[\"power_1st/mW\"][i].s for i in range(len(data_3_2[\"power_1st/mW\"]))]),markersize=6,\n",
    "             fmt=\".\", elinewidth=1, capsize=2,\n",
    "            label=\"Power 1st order\")\n",
    "plt.errorbar(np.array([data_3_2[\"RF_power/Watt\"][i] for i in range(len(data_3_2[\"RF_power/Watt\"]))]), \n",
    "        np.array([data_3_2[\"power_0th/mW\"][i].n for i in range(len(data_3_2[\"power_0th/mW\"]))]),\n",
    "            yerr=np.array([data_3_2[\"power_0th/mW\"][i].s for i in range(len(data_3_2[\"power_0th/mW\"]))]),markersize=6,\n",
    "             fmt=\".\", elinewidth=1, capsize=2,\n",
    "            label=\"Power 0th order\")\n",
    "plt.xlabel(\"RF power / Watt\")\n",
    "plt.ylabel(\"order power / mW\")\n",
    "plt.legend(loc='center right')\n",
    "#plt.savefig(\"plots/power_order.png\", dpi=500)\n",
    "plt.show()"
   ]
  },
  {
   "cell_type": "code",
   "execution_count": 24,
   "id": "f97ffa8a-71d2-484c-a841-5cd4ca570bd1",
   "metadata": {},
   "outputs": [
    {
     "data": {
      "text/plain": [
       "0     0.8477+/-0.0015\n",
       "1     0.8955+/-0.0016\n",
       "2     0.9025+/-0.0016\n",
       "3     0.8687+/-0.0015\n",
       "4     0.8046+/-0.0015\n",
       "5     0.7230+/-0.0014\n",
       "6     0.6356+/-0.0014\n",
       "7     0.5459+/-0.0013\n",
       "8     0.4643+/-0.0013\n",
       "9     0.3850+/-0.0013\n",
       "10    0.3186+/-0.0012\n",
       "11    0.2615+/-0.0012\n",
       "12    0.2125+/-0.0012\n",
       "13    0.1717+/-0.0012\n",
       "Name: power_1st/mW, dtype: object"
      ]
     },
     "execution_count": 24,
     "metadata": {},
     "output_type": "execute_result"
    }
   ],
   "source": [
    "# fit function to get epsilon\n",
    "def epsilon(RF_power, Sat_power):\n",
    "    norm_power = RF_power/Sat_power\n",
    "    return np.sin((np.pi/2) * np.sqrt(norm_power))**2\n",
    "epsilon_data = data_3_2[\"power_1st/mW\"]/ufloat(0.858, 0.001)\n",
    "epsilon_data"
   ]
  },
  {
   "cell_type": "code",
   "execution_count": 27,
   "id": "81c16bdf-1b7a-43c5-b229-4b57a56f625c",
   "metadata": {},
   "outputs": [
    {
     "data": {
      "text/plain": [
       "1.4278944396733801"
      ]
     },
     "execution_count": 27,
     "metadata": {},
     "output_type": "execute_result"
    }
   ],
   "source": [
    "# performing fit\n",
    "popt, pcov = curve_fit(epsilon, np.array([data_3_2[\"RF_power/Watt\"][i] for i in range(len(data_3_2[\"RF_power/Watt\"]))]), \n",
    "         np.array([epsilon_data[i].n for i in range(len(epsilon_data))]))\n",
    "popt[0]"
   ]
  },
  {
   "cell_type": "code",
   "execution_count": 26,
   "id": "1380fc0f-db14-4ff6-83f1-e33b41a9739f",
   "metadata": {},
   "outputs": [
    {
     "data": {
      "text/plain": [
       "[<matplotlib.lines.Line2D at 0x303238d90>]"
      ]
     },
     "execution_count": 26,
     "metadata": {},
     "output_type": "execute_result"
    },
    {
     "data": {
      "image/png": "[encoded data removed]",
      "text/plain": [
       "<Figure size 640x480 with 1 Axes>"
      ]
     },
     "metadata": {},
     "output_type": "display_data"
    }
   ],
   "source": [
    "RF_power = np.array([data_3_2[\"RF_power/Watt\"][i] for i in range(len(data_3_2[\"RF_power/Watt\"]))])\n",
    "plt.plot(RF_power, epsilon(RF_power,popt[0]))"
   ]
  },
  {
   "cell_type": "code",
   "execution_count": null,
   "id": "4e47be94-cd8d-428e-993d-b035110dbbfa",
   "metadata": {},
   "outputs": [],
   "source": []
  }
 ],
 "metadata": {
  "kernelspec": {
   "display_name": "Python 3 (ipykernel)",
   "language": "python",
   "name": "python3"
  },
  "language_info": {
   "codemirror_mode": {
    "name": "ipython",
    "version": 3
   },
   "file_extension": ".py",
   "mimetype": "text/x-python",
   "name": "python",
   "nbconvert_exporter": "python",
   "pygments_lexer": "ipython3",
   "version": "3.11.4"
  }
 },
 "nbformat": 4,
 "nbformat_minor": 5
}
